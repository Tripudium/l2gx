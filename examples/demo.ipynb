{
 "cells": [
  {
   "cell_type": "code",
   "execution_count": 1,
   "metadata": {},
   "outputs": [],
   "source": [
    "%reload_ext autoreload\n",
    "%autoreload 2"
   ]
  },
  {
   "cell_type": "code",
   "execution_count": 41,
   "metadata": {},
   "outputs": [],
   "source": [
    "import io\n",
    "import sys\n",
    "import re\n",
    "import numpy as np\n",
    "import time\n",
    "import matplotlib.pyplot as plt\n",
    "import torch\n",
    "from torch import nn\n",
    "from torch import optim\n",
    "from torch.nn import functional as F\n",
    "from l2gx.align.utils import to_device\n",
    "import networkx as nx\n",
    "from scipy.stats import special_ortho_group\n",
    "from umap import UMAP\n",
    "import warnings\n",
    "# Suppress common UMAP and sklearn warnings\n",
    "warnings.filterwarnings('ignore', category=UserWarning)\n",
    "warnings.filterwarnings('ignore', category=FutureWarning)\n",
    "\n",
    "from sklearn.metrics import silhouette_score\n",
    "from sklearn.neighbors import NearestNeighbors, kneighbors_graph\n",
    "from sklearn.datasets import make_blobs\n",
    "from sklearn.cluster import KMeans, SpectralClustering"
   ]
  },
  {
   "cell_type": "markdown",
   "metadata": {},
   "source": [
    "# 🌌 <font color=\"grey\"> Local2Global X - Graph Representation Learning at Scale</font>"
   ]
  },
  {
   "cell_type": "markdown",
   "metadata": {},
   "source": [
    "#### <font color=\"grey\">  Table of Contents</font>\n",
    "\n",
    "🏗️ <a href='#chapter1'>Structure</a>\n",
    "\n",
    "📊 <a href='#chapter2'>Datasets</a>\n",
    "\n",
    "🌐 <a href='#chapter3'>Graphs</a>\n",
    "\n",
    "🧩 <a href='#chapter4'>Patches</a>\n",
    "\n",
    "🎯 <a href='#chapter5'>Embedding</a>\n",
    "\n",
    "🔗 <a href='#chapter6'>Alignment</a>\n",
    "\n",
    "🌳 <a href='#chapter7'>Hierarchical alignment</a>\n",
    "\n",
    "📈 <a href='#chapter8'>Visualisation</a>"
   ]
  },
  {
   "cell_type": "markdown",
   "metadata": {},
   "source": [
    "###  <a id='chapter1'> 🏗️ <font color=\"grey\">Structure </font></a>"
   ]
  },
  {
   "cell_type": "markdown",
   "metadata": {},
   "source": [
    "There are five main parts to the package, organised as follows.\n",
    "\n",
    "```\n",
    "l2gv2/\n",
    "├── datasets/\n",
    "├── graphs/\n",
    "├── patch/\n",
    "├── embedding/\n",
    "└── align/\n",
    "    ├── l2g/\n",
    "    └── geo/\n",
    "```\n",
    "\n",
    "A brief overview of the contents:\n",
    "\n",
    "* ```datasets``` contains interfaces are provided for various common benchmark datasets. \n",
    "* ```graphs``` contains wrappers for graphs represented as lists of edges in pytorch-geometric ```data.edge_index``` format. These implemented features such as fast adjacency look-up and a variety of algorithms on graphs.\n",
    "* ```patch``` directory contains datastructures to represent patches and patch graphs, as well as methods to subdivide a graph into patches. \n",
    "* ```embedding``` contains various graph embedding methods, including Graph Autoencoders (GAE) and [Variational Graph Autoencoders (VGAE)](https://pytorch-geometric.readthedocs.io/en/latest/generated/torch_geometric.nn.models.VGAE.html).\n",
    "* ```align``` contains two methods to compute the alignment of patches into a single graph embedding: eigenvalue synchronisation based on the [Local2Global](https://link.springer.com/article/10.1007/s10994-022-06285-7) algorithm, and the new method based on learning the alignment using a one-layer neural network."
   ]
  },
  {
   "cell_type": "markdown",
   "metadata": {},
   "source": [
    "###  <a id='chapter2'> 📊 <font color=\"grey\">Datasets </font></a>"
   ]
  },
  {
   "cell_type": "markdown",
   "metadata": {},
   "source": [
    "The L2Gv2 framework provides access to multiple graph datasets spanning different domains and scales. All datasets are accessible through the unified `get_dataset()` interface and support conversion between multiple formats (PyTorch Geometric, Raphtory, Polars).\n",
    "\n",
    "| Dataset | Type | Nodes | Edges | Features | Domain |\n",
    "|---------|------|-------|-------|----------|--------|\n",
    "| **Cora** | Static Citation | 2,708 | 10,556 | 1,433 | 📚 Academic Papers |\n",
    "| **AS-733** | Temporal Network | 7,716 | 45,645 | Temporal | 🌐 Internet Infrastructure |\n",
    "| **DGraph** | Financial | ~3M | ~4M | Multiple | 💰 Fraud Detection |\n",
    "| **Elliptic** | Bitcoin | 203,769 | 234,355 | 166 | ₿ Cryptocurrency |\n",
    "| **MAG240M** | Academic | 244M+ | 1.7B+ | Rich | 🎓 Citation Graph |\n",
    "| **ORBITAAL** | Bitcoin Temporal | 252M (1K sample) | 785M (5K sample) | Temporal + Anomaly | ₿ Financial Fraud |\n",
    "\n",
    "#### Dataset Details\n",
    "\n",
    "* **Cora**: The [Cora dataset](https://graphsandnetworks.com/the-cora-dataset/) is a citation network of 2,708 scientific publications divided into 7 classes. Each node has a 1,433-dimensional feature vector indicating word presence/absence. Accessed through PyTorch Geometric's [Planetoid](https://pytorch-geometric.readthedocs.io/en/latest/generated/torch_geometric.datasets.Planetoid.html) dataset.\n",
    "\n",
    "* **AS-733**: The [SNAP autonomous systems AS-733](https://snap.stanford.edu/data/as-733.html) dataset contains 733 daily snapshots spanning 785 days (November 1997 to January 2000). Nodes represent autonomous systems and edges indicate communication events.\n",
    "\n",
    "* **DGraph**: [DGraph](https://dgraph.xinye.com/dataset) is a real-world financial graph for anomaly detection research. Described in [DGraph: A Large-Scale Financial Dataset for Graph Anomaly Detection](https://arxiv.org/abs/2207.03579). Requires manual download.\n",
    "\n",
    "* **Elliptic**: The [Elliptic dataset](https://www.kaggle.com/datasets/ellipticco/elliptic-data-set) maps Bitcoin transactions to licit/illicit categories. Contains 203,769 transactions with 166 features each. Used in [Anti-Money Laundering in Bitcoin](https://arxiv.org/pdf/1908.02591) research. Requires manual download from Kaggle.\n",
    "\n",
    "* **MAG240M**: The [MAG240M](https://ogb.stanford.edu/docs/lsc/mag240m/) dataset is a large heterogeneous academic citation graph with 244+ million nodes (papers, authors, institutions, fields) and 1.7+ billion edges. Requires the OGB library and substantial storage (~100GB).\n",
    "\n",
    "* **ORBITAAL**: The [ORBITAAL](https://www.nature.com/articles/s41597-025-04595-8) dataset is a comprehensive temporal Bitcoin transaction graph covering 13 years (2009-2021) with 252M entities and 785M transactions. Features timestamped transactions, entity types (exchanges, wallets, services, miners), and anomaly labels for financial fraud detection. Ideal for temporal graph neural networks and cryptocurrency flow analysis.\n",
    "\n",
    "\n",
    "For the datasets requiring manual download, provide the path:\n",
    "```\n",
    "elliptic = get_dataset(\"Elliptic\", source_file=\"/path/to/elliptic.zip\")\n",
    "dgraph = get_dataset(\"DGraph\", source_file=\"/path/to/dgraph.zip\")\n",
    "```\n",
    "\n",
    "All datasets support conversion to different formats and follow the PyTorch Geometric convention. Temporal graphs return iterables over time slices, and graphs can be exported to Raphtory or NetworkX formats for analysis."
   ]
  },
  {
   "cell_type": "code",
   "execution_count": 3,
   "metadata": {},
   "outputs": [
    {
     "name": "stdout",
     "output_type": "stream",
     "text": [
      "['as-733', 'Cora', 'DGraph', 'Elliptic', 'MAG240M', 'ORBITAAL']\n"
     ]
    }
   ],
   "source": [
    "from l2gx.datasets import get_dataset, list_available_datasets\n",
    "datasets = list_available_datasets()\n",
    "print(datasets)"
   ]
  },
  {
   "cell_type": "code",
   "execution_count": 4,
   "metadata": {},
   "outputs": [
    {
     "name": "stdout",
     "output_type": "stream",
     "text": [
      "Loading edge and node data from memory\n"
     ]
    },
    {
     "data": {
      "application/vnd.jupyter.widget-view+json": {
       "model_id": "aba0d79b0e6b4047a8b9cd013fbd2ec8",
       "version_major": 2,
       "version_minor": 0
      },
      "text/plain": [
       "HBox(children=(HTML(value=''), IntProgress(value=0, max=10556), HTML(value='')))"
      ]
     },
     "metadata": {},
     "output_type": "display_data"
    },
    {
     "data": {
      "application/vnd.jupyter.widget-view+json": {
       "model_id": "8c8f1e4cd17241ad89a953d29807e17f",
       "version_major": 2,
       "version_minor": 0
      },
      "text/plain": [
       "HBox(children=(HTML(value=''), IntProgress(value=0, max=2708), HTML(value='')))"
      ]
     },
     "metadata": {},
     "output_type": "display_data"
    },
    {
     "name": "stdout",
     "output_type": "stream",
     "text": [
      "Data(x=[2708, 1433], edge_index=[2, 10556], y=[2708], train_mask=[2708], val_mask=[2708], test_mask=[2708])\n"
     ]
    }
   ],
   "source": [
    "cora = get_dataset(\"Cora\")\n",
    "print(cora[0])"
   ]
  },
  {
   "cell_type": "code",
   "execution_count": 10,
   "metadata": {},
   "outputs": [
    {
     "name": "stdout",
     "output_type": "stream",
     "text": [
      "Graph: 2708 nodes, 10556 edges\n",
      "Labels: 7 unique classes\n"
     ]
    }
   ],
   "source": [
    "# First transform data into raphtory format, then networkx for plotting.\n",
    "G = cora.to(\"raphtory\").to_networkx()\n",
    "labels = cora[0].y.numpy()\n",
    "print(f\"Graph: {G.number_of_nodes()} nodes, {G.number_of_edges()} edges\")\n",
    "print(f\"Labels: {len(np.unique(labels))} unique classes\")\n",
    "class_names = ['Case_Based','Genetic_Algorithms', 'Neural_Networks','Probabilistic_Methods', 'Reinforcement_Learning','Rule_Learning', 'Theory']"
   ]
  },
  {
   "cell_type": "markdown",
   "metadata": {},
   "source": [
    "###  <a id='chapter3'> 🌐 <font color=\"grey\">Graphs </font></a>"
   ]
  },
  {
   "cell_type": "markdown",
   "metadata": {},
   "source": [
    "There are three wrappers for graphs that were taken over from the local2global package: ```TGraph```, ```NPGraph``` and ```JitGraph```. These include, among other things, methods for fast adjacency look-up and various optimizations. These are mostly used when performing graph clustering and generating patches."
   ]
  },
  {
   "cell_type": "code",
   "execution_count": 28,
   "metadata": {},
   "outputs": [],
   "source": [
    "from l2gx.graphs import TGraph"
   ]
  },
  {
   "cell_type": "code",
   "execution_count": 29,
   "metadata": {},
   "outputs": [
    {
     "name": "stdout",
     "output_type": "stream",
     "text": [
      "tensor([    0,     3,     6,  ..., 10548, 10552, 10556])\n",
      "tensor([[0., 0., 0.,  ..., 0., 0., 0.],\n",
      "        [0., 0., 0.,  ..., 0., 0., 0.],\n",
      "        [0., 0., 0.,  ..., 0., 0., 0.],\n",
      "        ...,\n",
      "        [0., 0., 0.,  ..., 0., 0., 0.],\n",
      "        [0., 0., 0.,  ..., 0., 0., 0.],\n",
      "        [0., 0., 0.,  ..., 0., 0., 0.]])\n"
     ]
    }
   ],
   "source": [
    "tg = TGraph(cora[0].edge_index, edge_attr=cora[0].edge_attr, x=cora[0].x)\n",
    "print(tg.adj_index)\n",
    "print(tg.x)"
   ]
  },
  {
   "cell_type": "markdown",
   "metadata": {},
   "source": [
    "In a future iteration one can think about consolidating this part by having graphs represented in some existing graph package like Raphtory."
   ]
  },
  {
   "cell_type": "markdown",
   "metadata": {},
   "source": [
    "###  <a id='chapter4'> 🧩 <font color=\"grey\">Patches </font></a>"
   ]
  },
  {
   "cell_type": "markdown",
   "metadata": {},
   "source": [
    "A patch can equivalently refer to a subgraph or to an embedding of this subgraph. As a set of points, a patch is represented using the ```Patch``` class. A ```Patch``` object has the properties ```nodes```, ```index``` and ```coordinates```. ```nodes``` is simply a list of the nodes from the original graph that are present in the patch. ```index``` is a dict that maps each node to an index into ```coordinates```, which is just a list of coordinates. For example, if a graph embedding consists of four nodes in two dimensions as follows, and a patch is represented by the solid circles, then the corresponding object would have the following properties:\n",
    "\n",
    "![Patch](./images/square_patch.png)\n"
   ]
  },
  {
   "cell_type": "code",
   "execution_count": 30,
   "metadata": {},
   "outputs": [],
   "source": [
    "from l2gx.patch.patches import Patch"
   ]
  },
  {
   "cell_type": "code",
   "execution_count": 31,
   "metadata": {},
   "outputs": [
    {
     "name": "stdout",
     "output_type": "stream",
     "text": [
      "[[0. 0.]\n",
      " [1. 0.]\n",
      " [1. 1.]]\n",
      "[0 2 3]\n",
      "{0: 0, 2: 1, 3: 2}\n"
     ]
    }
   ],
   "source": [
    "p = Patch([0,2,3], np.array([[0., 0.], [1., 0.], [1., 1.]]))\n",
    "print(p.coordinates)\n",
    "print(p.nodes)\n",
    "print(p.index)"
   ]
  },
  {
   "cell_type": "code",
   "execution_count": 45,
   "metadata": {},
   "outputs": [],
   "source": [
    "from l2gx.patch.clustering.fennel import fennel_clustering\n",
    "from l2gx.patch.clustering.metis import metis_clustering\n",
    "from l2gx.patch import generate_patches"
   ]
  },
  {
   "cell_type": "code",
   "execution_count": null,
   "metadata": {},
   "outputs": [],
   "source": [
    "patches, patch_graph = generate_patches(tg, num_patches=10, clustering_method='metis')"
   ]
  },
  {
   "cell_type": "markdown",
   "metadata": {},
   "source": [
    "The patches from the nodes of a **patch graph**, where two nodes are connected by an edge if the patches contain overlapping nodes. The alignment tasks consists of making the correponding coordinates overlap as much as possible."
   ]
  },
  {
   "cell_type": "code",
   "execution_count": null,
   "metadata": {},
   "outputs": [],
   "source": []
  },
  {
   "cell_type": "markdown",
   "metadata": {},
   "source": [
    "###  <a id='chapter5'> 🎯 <font color=\"grey\">Embedding </font></a>"
   ]
  },
  {
   "cell_type": "markdown",
   "metadata": {},
   "source": [
    "The L2GX framework implements several graph embedding methods: ```SVDEmbedding```, ```GAEEmbedding```, ```VGAEEmbedding```, ```GraphSAGEEmbedding``` and ```DGIEmbedding```. The first three are based on transductive learning, while the last two are inductive.\n",
    "\n",
    "* <font color=\"grey\">SVD</font> - Classical spectral approach using eigendecomposition\n",
    "* <font color=\"grey\">GAE</font> - [Graph Auto-Encoder ](https://arxiv.org/abs/1611.07308) for deterministic reconstruction\n",
    "* <font color=\"grey\">VGAE</font> - [Variational Graph Auto-Encoder](https://arxiv.org/abs/1611.07308) with probabilistic latent variables\n",
    "* <font color=\"grey\">GraphSAGE</font> - [Inductive Representation Learning on Large Graphs](https://arxiv.org/abs/1706.02216) for scalable embedding\n",
    "* <font color=\"grey\">DGI</font> - [Deep Graph Infomax](https://arxiv.org/abs/1809.10341) using self-supervised contrastive learning\n",
    "\n",
    "All methods are accessible through a unified interface with the ```get_embedding()``` function and registry system. The demonstration below shows convergence analysis, quality metrics, and UMAP visualizations for comprehensive comparison."
   ]
  },
  {
   "cell_type": "code",
   "execution_count": null,
   "metadata": {},
   "outputs": [],
   "source": [
    "from l2gx.embedding import get_embedding"
   ]
  },
  {
   "cell_type": "code",
   "execution_count": null,
   "metadata": {},
   "outputs": [],
   "source": [
    "print(\"📚 Loading Cora dataset...\")\n",
    "cora_data = cora[0]\n",
    "print(f\"Cora dataset: {cora_data.num_nodes} nodes, {cora_data.num_edges} edges\")\n",
    "print(f\"Node features: {cora_data.x.shape}\")\n",
    "print(f\"Classes: {cora_data.y.unique().numel()}\")\n",
    "print()"
   ]
  },
  {
   "cell_type": "code",
   "execution_count": null,
   "metadata": {},
   "outputs": [],
   "source": [
    "import io\n",
    "import sys\n",
    "import re\n",
    "\n",
    "embedding_methods = ['svd', 'gae', 'vgae', 'dgi', 'graphsage']\n",
    "embeddings = {}\n",
    "embedding_times = {}\n",
    "training_histories = {}  # Store loss histories for each method\n",
    "\n",
    "# Function to capture and parse training output\n",
    "def capture_training_output(func, *args, **kwargs):\n",
    "    \"\"\"Capture stdout and parse training loss values.\"\"\"\n",
    "    old_stdout = sys.stdout\n",
    "    sys.stdout = captured_output = io.StringIO()\n",
    "    \n",
    "    try:\n",
    "        result = func(*args, **kwargs)\n",
    "        output = captured_output.getvalue()\n",
    "    finally:\n",
    "        sys.stdout = old_stdout\n",
    "    \n",
    "    # Parse loss values from output using regex\n",
    "    loss_pattern = r'Epoch\\s+(\\d+),\\s+Loss:\\s+([\\d.]+)'\n",
    "    matches = re.findall(loss_pattern, output)\n",
    "    \n",
    "    if matches:\n",
    "        epochs = [int(match[0]) for match in matches]\n",
    "        losses = [float(match[1]) for match in matches]\n",
    "        # Print the captured output so user can still see it\n",
    "        print(output, end='')\n",
    "        return result, (epochs, losses)\n",
    "    else:\n",
    "        print(output, end='')\n",
    "        return result, None\n",
    "\n",
    "for method in embedding_methods:\n",
    "    print(f\"🔄 Computing {method} embedding...\")\n",
    "    start_time = time.time()\n",
    "    \n",
    "    try:\n",
    "        if method == 'svd':\n",
    "            # SVD embedding (spectral approach) - no iterative training\n",
    "            embedder = get_embedding(method, embedding_dim=64)\n",
    "            embeddings[method] = embedder.fit_transform(cora_data)\n",
    "            training_histories[method] = None  # SVD doesn't have iterative training\n",
    "            \n",
    "        elif method == 'gae':\n",
    "            # Graph Auto-Encoder with loss tracking\n",
    "            embedder = get_embedding(method, embedding_dim=64, num_epochs=200)\n",
    "            result, loss_data = capture_training_output(embedder.fit_transform, cora_data)\n",
    "            embeddings[method] = result\n",
    "            if loss_data:\n",
    "                epochs, losses = loss_data\n",
    "                training_histories[method] = {'epochs': epochs, 'losses': losses}\n",
    "            else:\n",
    "                training_histories[method] = None\n",
    "                \n",
    "        elif method == 'vgae':\n",
    "            # Variational Graph Auto-Encoder with loss tracking\n",
    "            embedder = get_embedding(method, embedding_dim=64, num_epochs=200)\n",
    "            result, loss_data = capture_training_output(embedder.fit_transform, cora_data)\n",
    "            embeddings[method] = result\n",
    "            if loss_data:\n",
    "                epochs, losses = loss_data\n",
    "                training_histories[method] = {'epochs': epochs, 'losses': losses}\n",
    "            else:\n",
    "                training_histories[method] = None\n",
    "                \n",
    "        elif method == 'dgi':\n",
    "            # Deep Graph Infomax with loss tracking\n",
    "            embedder = get_embedding(method, embedding_dim=64, num_epochs=200)\n",
    "            result, loss_data = capture_training_output(embedder.fit_transform, cora_data)\n",
    "            embeddings[method] = result\n",
    "            if loss_data:\n",
    "                epochs, losses = loss_data\n",
    "                training_histories[method] = {'epochs': epochs, 'losses': losses}\n",
    "            else:\n",
    "                training_histories[method] = None\n",
    "                \n",
    "        elif method == 'graphsage':\n",
    "            # GraphSAGE inductive embedding with loss tracking\n",
    "            embedder = get_embedding(method, embedding_dim=64, num_epochs=200)\n",
    "            result, loss_data = capture_training_output(embedder.fit_transform, cora_data)\n",
    "            embeddings[method] = result\n",
    "            if loss_data:\n",
    "                epochs, losses = loss_data\n",
    "                training_histories[method] = {'epochs': epochs, 'losses': losses}\n",
    "            else:\n",
    "                training_histories[method] = None\n",
    "        \n",
    "        end_time = time.time()\n",
    "        embedding_times[method] = end_time - start_time\n",
    "        \n",
    "        print(f\"✅ {method} embedding completed in {embedding_times[method]:.2f}s\")\n",
    "        print(f\"   Embedding shape: {embeddings[method].shape}\")\n",
    "        \n",
    "        # Print training info if available\n",
    "        if training_histories[method] is not None:\n",
    "            losses = training_histories[method]['losses']\n",
    "            epochs = training_histories[method]['epochs']\n",
    "            print(f\"   Captured {len(losses)} loss values from epochs {epochs[0]} to {epochs[-1]}\")\n",
    "            print(f\"   Initial loss: {losses[0]:.4f}, Final loss: {losses[-1]:.4f}\")\n",
    "        \n",
    "    except Exception as e:\n",
    "        print(f\"❌ {method} embedding failed: {str(e)}\")\n",
    "        # Create a placeholder embedding for visualization\n",
    "        embeddings[method] = torch.randn(cora_data.num_nodes, 64)\n",
    "        embedding_times[method] = 0.0\n",
    "        training_histories[method] = None\n",
    "    \n",
    "    print()\n",
    "\n",
    "print(f\"📊 Embedding computation summary:\")\n",
    "for method, emb in embeddings.items():\n",
    "    print(f\"   {method}: {emb.shape} ({embedding_times[method]:.2f}s)\")\n",
    "print()"
   ]
  },
  {
   "cell_type": "code",
   "execution_count": null,
   "metadata": {},
   "outputs": [],
   "source": [
    "# Visualize Training Convergence\n",
    "print(\"📈 TRAINING CONVERGENCE ANALYSIS\")\n",
    "print(\"=\" * 60)\n",
    "\n",
    "# Count methods with training histories\n",
    "methods_with_history = [method for method in embedding_methods \n",
    "                       if training_histories[method] is not None]\n",
    "\n",
    "if methods_with_history:\n",
    "    # Create convergence plots with optimal layout\n",
    "    n_methods = len(methods_with_history)\n",
    "    \n",
    "    if n_methods <= 2:\n",
    "        # Single row for 1-2 methods\n",
    "        fig, axes = plt.subplots(1, n_methods, figsize=(6*n_methods, 5))\n",
    "        if n_methods == 1:\n",
    "            axes = [axes]\n",
    "    else:\n",
    "        # Two rows for 3+ methods\n",
    "        n_cols = min(3, n_methods)  # Max 3 columns\n",
    "        n_rows = (n_methods + n_cols - 1) // n_cols  # Ceiling division\n",
    "        fig, axes = plt.subplots(n_rows, n_cols, figsize=(6*n_cols, 5*n_rows))\n",
    "        # Flatten axes array for easier indexing\n",
    "        if n_rows == 1:\n",
    "            axes = axes if isinstance(axes, list) else [axes]\n",
    "        else:\n",
    "            axes = axes.flatten()\n",
    "    \n",
    "    fig.suptitle('Training Loss Convergence for Graph Embedding Methods', fontsize=16)\n",
    "    \n",
    "    # Color palette for different methods\n",
    "    colors = ['blue', 'red', 'green', 'orange', 'purple', 'brown']\n",
    "    \n",
    "    for idx, method in enumerate(methods_with_history):\n",
    "        history_data = training_histories[method]\n",
    "        epochs = history_data['epochs']\n",
    "        losses = history_data['losses']\n",
    "        color = colors[idx % len(colors)]\n",
    "        \n",
    "        # Plot training loss\n",
    "        axes[idx].plot(epochs, losses, '-', color=color, linewidth=2, marker='o', \n",
    "                      markersize=4, label='Training Loss')\n",
    "        axes[idx].set_title(f'{method.upper()} Convergence')\n",
    "        axes[idx].set_xlabel('Epoch')\n",
    "        axes[idx].set_ylabel('Loss')\n",
    "        axes[idx].grid(True, alpha=0.3)\n",
    "        axes[idx].legend()\n",
    "        \n",
    "        # Add convergence statistics\n",
    "        initial_loss = losses[0]\n",
    "        final_loss = losses[-1]\n",
    "        improvement = ((initial_loss - final_loss) / initial_loss) * 100\n",
    "        \n",
    "        # Add text box with statistics\n",
    "        textstr = f'Initial: {initial_loss:.4f}\\nFinal: {final_loss:.4f}\\nImprovement: {improvement:.1f}%\\nSamples: {len(losses)}'\n",
    "        props = dict(boxstyle='round', facecolor='wheat', alpha=0.5)\n",
    "        axes[idx].text(0.05, 0.95, textstr, transform=axes[idx].transAxes, fontsize=9,\n",
    "                      verticalalignment='top', bbox=props)\n",
    "        \n",
    "        # Log scale option for better visualization if loss varies greatly\n",
    "        if max(losses) / min(losses) > 100:\n",
    "            axes[idx].set_yscale('log')\n",
    "            axes[idx].set_ylabel('Loss (log scale)')\n",
    "        \n",
    "        # Add trend line if we have enough points\n",
    "        if len(losses) > 2:\n",
    "            try:\n",
    "                from scipy.optimize import curve_fit\n",
    "                def exp_decay(x, a, b, c):\n",
    "                    return a * np.exp(-b * x) + c\n",
    "                \n",
    "                popt, _ = curve_fit(exp_decay, epochs, losses, maxfev=1000)\n",
    "                trend_epochs = np.linspace(min(epochs), max(epochs), 100)\n",
    "                trend_losses = exp_decay(trend_epochs, *popt)\n",
    "                axes[idx].plot(trend_epochs, trend_losses, '--', color=color, alpha=0.7, label='Trend')\n",
    "                axes[idx].legend()\n",
    "            except:\n",
    "                pass  # Skip trend line if fitting fails\n",
    "    \n",
    "    # Hide empty subplots if we have more axes than methods\n",
    "    if n_methods < len(axes):\n",
    "        for idx in range(n_methods, len(axes)):\n",
    "            axes[idx].set_visible(False)\n",
    "    \n",
    "    plt.tight_layout()\n",
    "    plt.show()\n",
    "    \n",
    "    # Summary statistics table\n",
    "    print(\"📊 Convergence Summary:\")\n",
    "    print(\"   Method      | Initial Loss | Final Loss | Improvement | Captured Points\")\n",
    "    print(\"   ------------|--------------|------------|-------------|----------------\")\n",
    "    for method in methods_with_history:\n",
    "        history_data = training_histories[method]\n",
    "        losses = history_data['losses']\n",
    "        epochs = history_data['epochs']\n",
    "        initial = losses[0]\n",
    "        final = losses[-1]\n",
    "        improvement = ((initial - final) / initial) * 100\n",
    "        n_points = len(losses)\n",
    "        print(f\"   {method:<11} | {initial:>10.4f}   | {final:>8.4f}   | {improvement:>8.1f}%    | {n_points:>13}\")\n",
    "    \n",
    "    # Additional convergence metrics\n",
    "    print()\n",
    "    print(\"📊 Detailed Convergence Metrics:\")\n",
    "    for method in methods_with_history:\n",
    "        history_data = training_histories[method]\n",
    "        losses = history_data['losses']\n",
    "        epochs = history_data['epochs']\n",
    "        \n",
    "        # Calculate convergence rate (loss reduction per epoch)\n",
    "        if len(losses) > 1:\n",
    "            total_epochs = epochs[-1] - epochs[0] + 1\n",
    "            loss_reduction = losses[0] - losses[-1]\n",
    "            convergence_rate = loss_reduction / total_epochs\n",
    "            \n",
    "            # Calculate stability (variance in final 25% of training)\n",
    "            final_quarter = losses[int(0.75 * len(losses)):]\n",
    "            stability = np.var(final_quarter)\n",
    "            \n",
    "            print(f\"   {method.upper()}:\")\n",
    "            print(f\"     • Convergence rate: {convergence_rate:.6f} loss/epoch\")\n",
    "            print(f\"     • Final quarter stability (variance): {stability:.6f}\")\n",
    "            print(f\"     • Training span: epochs {epochs[0]} to {epochs[-1]}\")\n",
    "            \n",
    "else:\n",
    "    print(\"ℹ️  No iterative training methods detected or loss tracking failed.\")\n",
    "    print(\"   SVD is a direct spectral method without iterative optimization.\")\n",
    "\n",
    "# Always show computation time comparison\n",
    "print()\n",
    "print(\"⏱️  COMPUTATION TIME COMPARISON\")\n",
    "print(\"=\" * 60)\n",
    "\n",
    "plt.figure(figsize=(12, 6))\n",
    "methods_list = list(embedding_methods)\n",
    "times_list = [embedding_times[method] for method in methods_list]\n",
    "\n",
    "# Create color-coded bars\n",
    "colors = ['skyblue', 'lightcoral', 'lightgreen', 'orange', 'plum']\n",
    "bars = plt.bar(methods_list, times_list, alpha=0.7, color=colors[:len(methods_list)])\n",
    "plt.title('Embedding Method Computation Times Comparison')\n",
    "plt.xlabel('Method')\n",
    "plt.ylabel('Time (seconds)')\n",
    "plt.grid(True, alpha=0.3, axis='y')\n",
    "\n",
    "# Add time labels on bars\n",
    "for bar, time_val in zip(bars, times_list):\n",
    "    height = bar.get_height()\n",
    "    plt.text(bar.get_x() + bar.get_width()/2., height + 0.05,\n",
    "            f'{time_val:.2f}s', ha='center', va='bottom', fontweight='bold')\n",
    "\n",
    "plt.tight_layout()\n",
    "plt.show()\n",
    "\n",
    "print()\n",
    "print(\"📈 Convergence Analysis:\")\n",
    "print(\"   • Loss curves reveal optimization dynamics and training stability\")\n",
    "print(\"   • GAE, VGAE: Reconstruction-based methods with different regularization\")\n",
    "print(\"   • DGI: Self-supervised contrastive learning approach\")\n",
    "print(\"   • GraphSAGE: Inductive method that can generalize to unseen nodes\")\n",
    "print(\"   • SVD: Direct eigendecomposition method (no iterative training)\")\n",
    "print(\"   • Steeper initial drops indicate faster convergence\")\n",
    "print(\"   • Flat final regions suggest convergence to stable solutions\")\n",
    "print()"
   ]
  },
  {
   "cell_type": "code",
   "execution_count": null,
   "metadata": {},
   "outputs": [],
   "source": [
    "# Prepare node labels for quality evaluation\n",
    "node_labels = cora_data.y.numpy()\n",
    "\n",
    "silhouette_scores = {}\n",
    "for method in embedding_methods:\n",
    "    if torch.is_tensor(embeddings[method]):\n",
    "        embedding_np = embeddings[method].detach().numpy()\n",
    "    else:\n",
    "        embedding_np = embeddings[method]\n",
    "    \n",
    "    # Calculate silhouette score (higher is better)\n",
    "    silhouette_scores[method] = silhouette_score(embedding_np, node_labels)\n",
    "\n",
    "print(\"📊 Embedding Quality Metrics:\")\n",
    "print(\"   Method          | Silhouette Score | Computation Time\")\n",
    "print(\"   ----------------|------------------|------------------\")\n",
    "for method in embedding_methods:\n",
    "    score = silhouette_scores[method]\n",
    "    time_taken = embedding_times[method]\n",
    "    print(f\"   {method:<15} | {score:>13.3f}    | {time_taken:>13.2f}s\")\n",
    "\n",
    "print()\n",
    "print(\"📈 Interpretation:\")\n",
    "print(\"   • Silhouette Score: Measures how well-separated the clusters are\")\n",
    "print(\"   • Higher scores indicate better embedding quality for classification\")\n",
    "print(\"   • Consider both quality and computation time for practical applications\")\n",
    "print()\n",
    "\n",
    "# Highlight the best performing method\n",
    "best_method = max(silhouette_scores.keys(), key=lambda k: silhouette_scores[k])\n",
    "print(f\"🏆 Best performing method: {best_method} (Silhouette Score: {silhouette_scores[best_method]:.3f})\")\n",
    "print()"
   ]
  },
  {
   "cell_type": "code",
   "execution_count": null,
   "metadata": {},
   "outputs": [],
   "source": [
    "print(\"🗺️  UMAP VISUALIZATION OF EMBEDDINGS\")\n",
    "print(\"=\" * 60)\n",
    "\n",
    "# Prepare node labels for coloring\n",
    "node_labels = cora_data.y.numpy()\n",
    "class_names = ['Case_Based', 'Genetic_Algorithms', 'Neural_Networks', \n",
    "               'Probabilistic_Methods', 'Reinforcement_Learning', 'Rule_Learning', 'Theory']\n",
    "\n",
    "# Create UMAP visualizations with optimal layout for 5 methods\n",
    "n_methods = len(embedding_methods)\n",
    "n_cols = 3  # 3 columns\n",
    "n_rows = (n_methods + n_cols - 1) // n_cols  # Ceiling division: 2 rows for 5 methods\n",
    "\n",
    "fig, axes = plt.subplots(n_rows, n_cols, figsize=(6*n_cols, 5*n_rows))\n",
    "axes = axes.flatten()  # Flatten for easier indexing\n",
    "\n",
    "fig.suptitle('UMAP Visualization of Graph Embeddings on Cora Dataset', fontsize=18)\n",
    "\n",
    "# Color palette for different methods\n",
    "method_colors = ['navy', 'darkred', 'darkgreen', 'darkorange', 'purple']\n",
    "\n",
    "for idx, method in enumerate(embedding_methods):\n",
    "    print(f\"🔄 Creating UMAP visualization for {method}...\")\n",
    "    \n",
    "    # Convert embedding to numpy if it's a tensor\n",
    "    if torch.is_tensor(embeddings[method]):\n",
    "        embedding_np = embeddings[method].detach().numpy().astype(np.float32)\n",
    "    else:\n",
    "        embedding_np = np.array(embeddings[method], dtype=np.float32)\n",
    "    \n",
    "    # Ensure data is finite and normalized\n",
    "    embedding_np = np.nan_to_num(embedding_np, nan=0.0, posinf=1.0, neginf=-1.0)\n",
    "    \n",
    "    # Apply UMAP for dimensionality reduction with robust parameters\n",
    "    umap_model = UMAP(\n",
    "        n_components=2, \n",
    "        random_state=42, \n",
    "        n_neighbors=min(15, len(embedding_np) - 1),  # Ensure n_neighbors < n_samples\n",
    "        min_dist=0.1,\n",
    "        metric='euclidean',\n",
    "        n_jobs=1,  # Avoid threading warnings\n",
    "        low_memory=False,\n",
    "        verbose=False\n",
    "    )\n",
    "    \n",
    "    embedding_2d = umap_model.fit_transform(embedding_np)\n",
    "    \n",
    "    # Create scatter plot\n",
    "    scatter = axes[idx].scatter(embedding_2d[:, 0], embedding_2d[:, 1], \n",
    "                               c=node_labels, cmap='tab10', alpha=0.6, s=15)\n",
    "    \n",
    "    # Add method-specific styling\n",
    "    axes[idx].set_title(f'{method.upper()} Embedding\\n(Time: {embedding_times[method]:.2f}s)', \n",
    "                       fontsize=12, color=method_colors[idx % len(method_colors)])\n",
    "    axes[idx].set_xlabel('UMAP Component 1')\n",
    "    axes[idx].set_ylabel('UMAP Component 2')\n",
    "    axes[idx].grid(True, alpha=0.3)\n",
    "    \n",
    "    # Add border color to distinguish methods\n",
    "    for spine in axes[idx].spines.values():\n",
    "        spine.set_edgecolor(method_colors[idx % len(method_colors)])\n",
    "        spine.set_linewidth(2)\n",
    "\n",
    "# Hide empty subplots\n",
    "for idx in range(n_methods, len(axes)):\n",
    "    axes[idx].set_visible(False)\n",
    "\n",
    "# Add a single colorbar for all plots\n",
    "cbar = fig.colorbar(scatter, ax=axes[:n_methods], orientation='horizontal', \n",
    "                   pad=0.05, aspect=40, shrink=0.8)\n",
    "cbar.set_label('Node Classes (Cora Paper Categories)', fontsize=12)\n",
    "\n",
    "plt.tight_layout()\n",
    "plt.show()\n",
    "\n",
    "# Re-enable warnings for subsequent code\n",
    "warnings.resetwarnings()\n",
    "\n",
    "print(\"✅ UMAP visualizations completed!\")\n",
    "print()\n",
    "print(\"📊 Comparative Visualization Analysis:\")\n",
    "print(\"   • Each point represents a paper (node) in the Cora citation network\")\n",
    "print(\"   • Colors indicate the 7 different research areas\")\n",
    "print(\"   • SVD: Direct spectral embedding (fastest but may be less refined)\")\n",
    "print(\"   • GAE/VGAE: Reconstruction-based embeddings (GAE deterministic, VGAE probabilistic)\")\n",
    "print(\"   • DGI: Self-supervised contrastive learning (good for unsupervised tasks)\")\n",
    "print(\"   • GraphSAGE: Inductive method (can embed new nodes without retraining)\")\n",
    "print(\"   • Compare clustering quality to see which method best separates paper categories\")\n",
    "print()"
   ]
  },
  {
   "cell_type": "markdown",
   "metadata": {},
   "source": [
    "###  <a id='chapter6'> 🔗 <font color=\"grey\">Alignment </font></a>"
   ]
  },
  {
   "cell_type": "code",
   "execution_count": 111,
   "metadata": {},
   "outputs": [],
   "source": [
    "np.random.seed(42)  # For reproducibility\n",
    "points = np.random.rand(100, 2)\n",
    "patches = [Patch([i for i in range(60)], points[:60]),\n",
    "           Patch([i for i in range(40,100)], points[-60:])]"
   ]
  },
  {
   "cell_type": "code",
   "execution_count": null,
   "metadata": {},
   "outputs": [],
   "source": [
    "\n",
    "plt.figure(figsize=(10, 6))\n",
    "plt.scatter(patches[0].coordinates[:, 0], patches[0].coordinates[:, 1], c='blue', alpha=0.7, label='Patch 1')\n",
    "plt.scatter(patches[1].coordinates[:, 0], patches[1].coordinates[:, 1], c='red', alpha=0.7, label='Patch 2')\n",
    "plt.legend()\n",
    "overlap_indices = list(set(patches[0].nodes.tolist()).intersection(set(patches[1].nodes.tolist())))\n",
    "print(overlap_indices)\n",
    "if overlap_indices:\n",
    "    overlap_coords_patch0 = patches[0].get_coordinates(overlap_indices)\n",
    "    overlap_coords_patch1 = patches[1].get_coordinates(overlap_indices)\n",
    "    plt.scatter(overlap_coords_patch0[:, 0], overlap_coords_patch0[:, 1], c='green', s=100, alpha=0.7, label='Overlap')\n",
    "plt.scatter(overlap_coords_patch0[:, 0], overlap_coords_patch0[:, 1], c='green', s=100, alpha=0.7, label='Overlap')  # Increased size from 100 to 200\n",
    "plt.show()\n"
   ]
  },
  {
   "cell_type": "markdown",
   "metadata": {},
   "source": [
    "\n"
   ]
  },
  {
   "cell_type": "code",
   "execution_count": 113,
   "metadata": {},
   "outputs": [],
   "source": [
    "rotation = special_ortho_group.rvs(2)  # 2x2 random orthogonal matrix\n",
    "scale = np.random.uniform(0.5, 2.0)\n",
    "translation = np.random.uniform(-5, 5, size=2)\n",
    "set2_transformed = scale * (patches[1].coordinates @ rotation.T) + translation\n",
    "transformed_patches = [patches[0], Patch(patches[1].nodes, set2_transformed)]"
   ]
  },
  {
   "cell_type": "code",
   "execution_count": null,
   "metadata": {},
   "outputs": [],
   "source": [
    "plt.figure(figsize=(10, 6))\n",
    "plt.scatter(transformed_patches[0].coordinates[:, 0], transformed_patches[0].coordinates[:, 1], c='blue', alpha=0.7, label='Patch 1')\n",
    "plt.scatter(transformed_patches[1].coordinates[:, 0], transformed_patches[1].coordinates[:, 1], c='red', alpha=0.7, label='Patch 2')\n",
    "plt.legend()\n",
    "overlap_indices = list(set(transformed_patches[0].nodes.tolist()).intersection(set(transformed_patches[1].nodes.tolist())))\n",
    "print(overlap_indices)\n",
    "if overlap_indices:\n",
    "    overlap_coords_patch0 = transformed_patches[0].get_coordinates(overlap_indices)\n",
    "    overlap_coords_patch1 = transformed_patches[1].get_coordinates(overlap_indices)\n",
    "    plt.scatter(overlap_coords_patch0[:, 0], overlap_coords_patch0[:, 1], c='green', s=100, alpha=0.7, label='Overlap')\n",
    "    plt.scatter(overlap_coords_patch1[:, 0], overlap_coords_patch1[:, 1], c='green', s=100, alpha=0.7, label='Overlap')\n",
    "plt.show()"
   ]
  },
  {
   "cell_type": "markdown",
   "metadata": {},
   "source": [
    "For the patch graph, we first determine the intersections. "
   ]
  },
  {
   "cell_type": "code",
   "execution_count": 116,
   "metadata": {},
   "outputs": [],
   "source": [
    "def get_intersections(patches, min_overlap=0):\n",
    "    \"\"\"Calculate the intersection of nodes between patches.\"\"\"\n",
    "    intersections = {}\n",
    "    embeddings = {}\n",
    "    for i, _ in enumerate(patches):\n",
    "        for j in range(i + 1, len(patches)):\n",
    "            intersections[(i, j)] = list(\n",
    "                set(patches[i].nodes.tolist()).intersection(\n",
    "                    set(patches[j].nodes.tolist())\n",
    "                )\n",
    "            )\n",
    "            if len(intersections[(i, j)]) >= min_overlap:\n",
    "                embeddings[(i, j)] = [\n",
    "                    torch.tensor(\n",
    "                        patches[i].get_coordinates(list(intersections[(i, j)]))\n",
    "                    ),\n",
    "                    torch.tensor(\n",
    "                        patches[j].get_coordinates(list(intersections[(i, j)]))\n",
    "                    ),\n",
    "                ]\n",
    "    # embeddings = list(itertools.chain.from_iterable(embeddings))\n",
    "    return intersections, embeddings"
   ]
  },
  {
   "cell_type": "code",
   "execution_count": 117,
   "metadata": {},
   "outputs": [],
   "source": [
    "intersections, embeddings = get_intersections(transformed_patches, min_overlap=3)"
   ]
  },
  {
   "cell_type": "markdown",
   "metadata": {},
   "source": [
    "There is only one edge connecting the two patches."
   ]
  },
  {
   "cell_type": "code",
   "execution_count": 118,
   "metadata": {},
   "outputs": [],
   "source": [
    "class AffineModel(nn.Module):\n",
    "    \"\"\"\n",
    "    Model for aligning patch embeddings\n",
    "    \"\"\"\n",
    "\n",
    "    def __init__(self, dim, n_patches, device):\n",
    "        \"\"\"\n",
    "        Initialize the model\n",
    "        Args:\n",
    "            dim: int\n",
    "            n_patches: int\n",
    "            device: str\n",
    "        \"\"\"\n",
    "        super().__init__()\n",
    "        self.device = device\n",
    "        linear_layers = [nn.Linear(dim, dim, bias=True).to(device) for _ in range(n_patches)]\n",
    "        # Fix the first transformation to be the identity\n",
    "        fixed_layer_index = 0\n",
    "        linear_layers[fixed_layer_index].weight.data.copy_(torch.eye(dim))\n",
    "        linear_layers[fixed_layer_index].bias.data.zero_()\n",
    "        linear_layers[fixed_layer_index].weight.requires_grad = False\n",
    "        linear_layers[fixed_layer_index].bias.requires_grad = False\n",
    "\n",
    "        self.transformation = nn.ParameterList(linear_layers)\n",
    "\n",
    "    def forward(self, patch_intersection):\n",
    "        \"\"\"\n",
    "        Forward pass\n",
    "        \"\"\"\n",
    "        outputs = {}\n",
    "        for (i, j), (X, Y) in patch_intersection.items():\n",
    "            Xt = self.transformation[i](X)\n",
    "            Yt = self.transformation[j](Y)\n",
    "            outputs[(i, j)] = (Xt, Yt)\n",
    "        return outputs"
   ]
  },
  {
   "cell_type": "code",
   "execution_count": 119,
   "metadata": {},
   "outputs": [],
   "source": [
    "def patchgraph_mse_loss(transformed_emb):\n",
    "    total_loss = 0.0\n",
    "    for (_, _), (transformed_X, transformed_Y) in transformed_emb.items():\n",
    "        pair_loss = F.mse_loss(transformed_X, transformed_Y, reduction=\"sum\")\n",
    "        total_loss += pair_loss\n",
    "    return total_loss"
   ]
  },
  {
   "cell_type": "code",
   "execution_count": 120,
   "metadata": {},
   "outputs": [],
   "source": [
    "dim = 2\n",
    "device = \"cpu\"\n",
    "model = AffineModel(dim, n_patches, device).to(device)\n",
    "optimizer = optim.Adam(model.parameters(), lr=1e-1)\n",
    "loss_hist = []\n",
    "patch_emb = to_device(embeddings, \"cpu\")\n"
   ]
  },
  {
   "cell_type": "code",
   "execution_count": null,
   "metadata": {},
   "outputs": [],
   "source": [
    "for epoch in range(2000):\n",
    "    optimizer.zero_grad()\n",
    "    transformed_patch_emb = model(patch_emb)\n",
    "    loss = patchgraph_mse_loss(transformed_patch_emb)\n",
    "    loss.backward(retain_graph=True)\n",
    "    optimizer.step()\n",
    "    loss_hist.append(loss.item())\n",
    "    if epoch % 100 == 0:\n",
    "        print(f\"Epoch {epoch}, Loss: {loss.item()}\")"
   ]
  },
  {
   "cell_type": "code",
   "execution_count": null,
   "metadata": {},
   "outputs": [],
   "source": [
    "plt.plot(loss_hist)\n",
    "plt.show()"
   ]
  },
  {
   "cell_type": "code",
   "execution_count": 123,
   "metadata": {},
   "outputs": [],
   "source": [
    "recoverd_patches_coordinates = [\n",
    "    transformed_patches[i].coordinates @ model.transformation[i].weight.data.detach().numpy().T\n",
    "    + model.transformation[i].bias.data.detach().numpy()\n",
    "    for i in range(2)\n",
    "]\n",
    "recoverd_patches = [Patch(transformed_patches[i].nodes, recoverd_patches_coordinates[i]) for i in range(2)]\n"
   ]
  },
  {
   "cell_type": "code",
   "execution_count": null,
   "metadata": {},
   "outputs": [],
   "source": [
    "plt.figure(figsize=(10, 6))\n",
    "plt.scatter(recoverd_patches[0].coordinates[:, 0], recoverd_patches[0].coordinates[:, 1], c='blue', alpha=0.7, label='Patch 1')\n",
    "plt.scatter(recoverd_patches[1].coordinates[:, 0], recoverd_patches[1].coordinates[:, 1], c='red', alpha=0.7, label='Patch 2')\n",
    "plt.legend()\n",
    "overlap_indices = list(set(recoverd_patches[0].nodes.tolist()).intersection(set(recoverd_patches[1].nodes.tolist())))\n",
    "print(overlap_indices)\n",
    "if overlap_indices:\n",
    "    overlap_coords_patch0 = recoverd_patches[0].get_coordinates(overlap_indices)\n",
    "    overlap_coords_patch1 = recoverd_patches[1].get_coordinates(overlap_indices)\n",
    "    plt.scatter(overlap_coords_patch0[:, 0], overlap_coords_patch0[:, 1], c='green', s=100, alpha=0.7, label='Overlap')\n",
    "    plt.scatter(overlap_coords_patch1[:, 0], overlap_coords_patch1[:, 1], c='green', s=100, alpha=0.7, label='Overlap')\n",
    "plt.show()"
   ]
  },
  {
   "cell_type": "code",
   "execution_count": null,
   "metadata": {},
   "outputs": [],
   "source": [
    "from l2gx.align import get_aligner"
   ]
  },
  {
   "cell_type": "code",
   "execution_count": null,
   "metadata": {},
   "outputs": [],
   "source": [
    "patches = generate_patches(n_points = 200, n_clusters=10)\n",
    "n_patches = len(patches)\n",
    "transformed_patches = random_transform_patches(patches)\n",
    "plot_patches(patches, transformed_patches)"
   ]
  },
  {
   "cell_type": "code",
   "execution_count": null,
   "metadata": {},
   "outputs": [],
   "source": [
    "geo_aligner = get_aligner(\n",
    "    \"geo\", \n",
    "    patches=transformed_patches,\n",
    "    num_epochs=500,\n",
    "    learning_rate=0.1,\n",
    "    model_type=\"affine\")\n",
    "embedding = geo_aligner.get_aligned_embedding()\n",
    "plot_patches(geo_aligner.patches, patches)"
   ]
  },
  {
   "cell_type": "code",
   "execution_count": null,
   "metadata": {},
   "outputs": [],
   "source": [
    "plt.plot(geo_aligner.loss_hist)\n",
    "plt.show()"
   ]
  },
  {
   "cell_type": "markdown",
   "metadata": {},
   "source": []
  },
  {
   "cell_type": "markdown",
   "metadata": {},
   "source": [
    "###  <a id='chapter7'> <font color=\"grey\">7. Hierarchical alignment </font></a>"
   ]
  },
  {
   "cell_type": "markdown",
   "metadata": {},
   "source": [
    "To be done."
   ]
  },
  {
   "cell_type": "markdown",
   "metadata": {},
   "source": [
    "###  <a id='chapter8'> <font color=\"grey\">8. Visualisation </font></a>"
   ]
  },
  {
   "cell_type": "markdown",
   "metadata": {},
   "source": [
    "For the visualisation, it is convenient to use external packages such as Heimdall."
   ]
  },
  {
   "cell_type": "markdown",
   "metadata": {},
   "source": []
  }
 ],
 "metadata": {
  "kernelspec": {
   "display_name": ".venv",
   "language": "python",
   "name": "python3"
  },
  "language_info": {
   "codemirror_mode": {
    "name": "ipython",
    "version": 3
   },
   "file_extension": ".py",
   "mimetype": "text/x-python",
   "name": "python",
   "nbconvert_exporter": "python",
   "pygments_lexer": "ipython3",
   "version": "3.10.16"
  }
 },
 "nbformat": 4,
 "nbformat_minor": 2
}
